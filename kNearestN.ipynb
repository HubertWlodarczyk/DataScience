{
 "cells": [
  {
   "cell_type": "markdown",
   "source": [
    "Definitions and imports"
   ],
   "metadata": {
    "collapsed": false
   }
  },
  {
   "cell_type": "code",
   "execution_count": 248,
   "outputs": [],
   "source": [
    "import math\n",
    "import pandas\n",
    "import matplotlib.pyplot as plt\n",
    "import numpy\n",
    "import sklearn.decomposition as sde\n",
    "import sklearn.datasets as sd\n",
    "\n",
    "class k_nn:\n",
    "    neighbors=1\n",
    "    KDtree=False\n",
    "    X=[]\n",
    "    y=[]\n",
    "    prediction=[]\n",
    "    def __init__(self,n_neighbors=1,use_KDtree=False):\n",
    "        self.neighbors=n_neighbors\n",
    "        self.KDtree=use_KDtree\n",
    "    def fit(self,X,y):\n",
    "        self.X=X\n",
    "        self.y=y\n",
    "    def predict(self,X):\n",
    "        if self.KDtree:\n",
    "            _, nearestIndexs = self.kd_tree.query(X, k=self.n_neighbors)\n",
    "        else:\n",
    "            distance=[]\n",
    "            for point in self.X:\n",
    "                distance.append(math.dist(X,point))\n",
    "            smallestDistance=distance.copy()\n",
    "            smallestDistance.sort()\n",
    "            smallestDistance=smallestDistance[:self.neighbors]\n",
    "            nearestIndexs=[]\n",
    "            for value in smallestDistance:\n",
    "                nearestIndexs.append(distance.index(value))\n",
    "            sum=0\n",
    "        for index in nearestIndexs:\n",
    "            sum+=self.y[index]\n",
    "        sum=sum/self.neighbors\n",
    "        return sum\n",
    "\n",
    "    def regression(self,X):\n",
    "        d=[]\n",
    "        for xP in self.X[:,0]:\n",
    "            d.append(math.fabs(X-xP))\n",
    "        smallestDistance = d.copy()\n",
    "        smallestDistance.sort()\n",
    "        smallestDistance = smallestDistance[:self.neighbors]\n",
    "        nearestIndexs = []\n",
    "        for value in smallestDistance:\n",
    "            nearestIndexs.append(d.index(value))\n",
    "        sum = 0\n",
    "        for index in nearestIndexs:\n",
    "            sum += self.y[index]\n",
    "        sum1 = sum / self.neighbors\n",
    "        return sum1\n",
    "\n",
    "    def scoreR(self, X, y):\n",
    "        a=0\n",
    "        for i in range(X.shape[0]):\n",
    "            a+=(X[i]-y[i])**2\n",
    "        return a/X.shape[0]\n",
    "\n",
    "    def scoreC(self, X, y):\n",
    "        a=0\n",
    "        for i in range(X.shape[0]):\n",
    "            if X[i]==y[i]:\n",
    "                a+=1\n",
    "        return a/X.shape[0]"
   ],
   "metadata": {
    "collapsed": false,
    "ExecuteTime": {
     "end_time": "2023-06-01T20:25:25.982228100Z",
     "start_time": "2023-06-01T20:25:25.783129600Z"
    }
   }
  },
  {
   "cell_type": "markdown",
   "source": [
    "Zad 1"
   ],
   "metadata": {
    "collapsed": false
   }
  },
  {
   "cell_type": "code",
   "execution_count": 249,
   "outputs": [
    {
     "name": "stdout",
     "output_type": "stream",
     "text": [
      "[[-7.66054695e-01  1.83324682e-01]\n",
      " [-9.20383253e-01 -7.23168038e-02]\n",
      " [-9.86585088e-01 -2.86920000e-01]\n",
      " [ 1.70910242e+00 -1.10453952e+00]\n",
      " [ 1.98764670e+00  1.77624479e+00]\n",
      " [ 3.86274219e+00  2.63325914e+00]\n",
      " [-1.12836011e+00 -4.22761581e-01]\n",
      " [-1.10074198e+00 -2.56042975e+00]\n",
      " [-1.53716448e+00  1.10502647e+00]\n",
      " [-3.23726922e-01  5.56269743e-01]\n",
      " [-1.28532883e+00 -1.30819171e+00]\n",
      " [ 3.35973253e+00 -1.79506345e+00]\n",
      " [-1.27034986e+00  1.26780440e+00]\n",
      " [-7.10233633e-01 -1.13058206e+00]\n",
      " [-1.12933108e+00  6.87661760e-01]\n",
      " [ 2.48206729e-01 -5.09792713e-01]\n",
      " [-2.47263494e+00 -4.86612462e-01]\n",
      " [-1.11573423e+00  1.43370121e+00]\n",
      " [-1.21414740e+00  1.97698901e+00]\n",
      " [-1.25860859e+00 -1.82896522e-01]\n",
      " [-5.35834091e-01  1.10698637e+00]\n",
      " [ 9.23281451e-01 -1.30813451e+00]\n",
      " [ 2.02751248e+00 -4.03257104e-01]\n",
      " [ 2.18718140e+00  2.03196825e+00]\n",
      " [ 5.12814562e-01  4.32994532e-01]\n",
      " [-2.81180710e+00 -3.45538051e-01]\n",
      " [ 3.13380666e-01  1.12073484e+00]\n",
      " [ 2.72990606e-01 -3.21105367e-01]\n",
      " [-1.18986266e+00  4.24345081e-01]\n",
      " [-1.12132974e-01 -9.07197428e-01]\n",
      " [ 1.23567148e+00  1.55525060e+00]\n",
      " [-7.03291920e-01 -6.05415797e-01]\n",
      " [ 1.33828180e+00 -9.86132567e-01]\n",
      " [-3.19826339e+00 -1.25732069e+00]\n",
      " [ 7.64389529e-01 -6.79598011e-01]\n",
      " [ 9.52529622e-01 -7.93470192e-01]\n",
      " [-4.37933163e-01 -1.24378126e+00]\n",
      " [ 2.40620516e+00 -1.00171129e-01]\n",
      " [ 6.81520677e-01  3.93906076e-01]\n",
      " [ 4.51394467e-01 -2.47553402e-03]\n",
      " [-1.45709006e+00  4.86681188e-01]\n",
      " [ 1.69989125e+00 -1.66130052e+00]\n",
      " [-9.80358459e-01 -1.40246886e+00]\n",
      " [-2.68225264e-01  4.58931008e-02]\n",
      " [-1.85016853e+00 -3.58754622e+00]\n",
      " [-1.07894567e-01  1.34057624e+00]\n",
      " [ 1.27458364e+00 -2.52159550e+00]\n",
      " [-4.47369310e-01 -2.68051210e-01]\n",
      " [-8.11815767e-03  2.11564734e+00]\n",
      " [-2.22244349e+00 -1.62073375e+00]\n",
      " [-8.94365876e-01  9.29950318e-01]\n",
      " [-2.41527100e-01  4.55946498e-01]\n",
      " [ 8.50411665e-01 -2.08311803e-01]\n",
      " [-1.06938289e+00  4.17180364e-01]\n",
      " [-9.95105317e-01  1.23195055e+00]\n",
      " [-8.31839865e-01  7.21669496e-01]\n",
      " [-1.24743076e+00  7.09216593e-01]\n",
      " [ 1.22964368e+00 -9.61541555e-01]\n",
      " [-9.00142145e-01  1.78037474e+00]\n",
      " [ 5.71068197e-01 -1.23267396e+00]\n",
      " [ 2.16543447e-01 -7.15602562e-02]\n",
      " [-1.59027524e-01 -2.38076394e+00]\n",
      " [-5.97321845e-01 -1.20114435e+00]\n",
      " [ 1.04421447e+00  2.02899023e+00]\n",
      " [ 9.55083877e-01 -1.62184212e+00]\n",
      " [-9.03343950e-01  1.79445113e+00]\n",
      " [-1.27395967e+00 -4.37843295e-02]\n",
      " [ 2.50202269e-01 -1.04862023e-01]\n",
      " [-8.95526209e-01  3.51173413e-01]\n",
      " [-1.17921312e+00  5.44818813e-01]\n",
      " [-1.20374176e+00 -2.89788250e-01]\n",
      " [ 1.22006997e+00 -8.27182474e-01]\n",
      " [ 2.34137626e+00  1.47049892e+00]\n",
      " [-6.15293010e-01 -8.64008129e-01]\n",
      " [ 1.79574591e+00  1.87834887e+00]\n",
      " [-7.80910684e-01  1.85082392e+00]\n",
      " [-1.36508549e-01  7.33899962e-01]\n",
      " [ 1.73590335e+00 -8.69536952e-01]\n",
      " [-6.35812195e-01  1.35329628e+00]\n",
      " [-6.83049356e-01 -8.00221059e-01]\n",
      " [ 8.51440362e-01  2.42548085e+00]\n",
      " [-1.11745336e+00  1.26661394e+00]\n",
      " [ 6.73114962e-01  5.59313196e-01]\n",
      " [-1.14855777e+00  8.65825460e-01]\n",
      " [-1.45125944e+00 -7.62884416e-01]\n",
      " [ 8.56699698e-01 -4.43584187e-01]\n",
      " [ 1.91002859e+00 -2.20119016e+00]\n",
      " [-1.04999632e+00  1.83240861e+00]\n",
      " [-7.81871442e-02 -3.54528872e-01]\n",
      " [ 5.23902618e-01 -1.97242756e+00]\n",
      " [-1.36672011e+00 -1.05286598e+00]\n",
      " [ 2.17261785e-01 -4.71824167e-01]\n",
      " [ 1.35081491e+00 -1.94643859e-01]\n",
      " [-1.41363563e+00 -3.59967304e-01]\n",
      " [ 1.86752028e+00 -2.05721672e-01]\n",
      " [-9.89449288e-01  3.73436160e-01]\n",
      " [-8.69385004e-01 -8.60699619e-01]\n",
      " [ 2.53026908e+00  3.80251566e-01]\n",
      " [-4.61220130e-01 -3.69743600e+00]\n",
      " [-2.05321581e+00  4.22341441e-01]]\n",
      "[0 0 0 1 1 1 0 0 1 1 0 1 0 0 0 1 0 0 0 0 1 1 1 1 1 0 1 1 0 1 1 0 1 0 1 0 0\n",
      " 1 1 1 0 1 0 1 0 1 1 0 1 0 0 1 1 0 0 0 0 1 0 0 1 0 0 1 1 0 0 1 0 1 0 1 1 0\n",
      " 1 0 1 1 0 1 1 0 1 0 0 1 1 0 1 1 0 1 1 0 1 0 0 1 0 0]\n"
     ]
    }
   ],
   "source": [
    "X,group = sd.make_classification(\n",
    "    n_samples=100,\n",
    "    n_features=2,\n",
    "    n_informative=2,\n",
    "    n_redundant=0,\n",
    "    n_repeated=0,\n",
    "    random_state=0\n",
    ")\n",
    "print(X)\n",
    "print(group)"
   ],
   "metadata": {
    "collapsed": false,
    "ExecuteTime": {
     "end_time": "2023-06-01T20:25:25.984232500Z",
     "start_time": "2023-06-01T20:25:25.807008800Z"
    }
   }
  },
  {
   "cell_type": "markdown",
   "source": [
    "Zad 2"
   ],
   "metadata": {
    "collapsed": false
   }
  },
  {
   "cell_type": "code",
   "execution_count": 250,
   "outputs": [],
   "source": [
    "a=k_nn(n_neighbors=2,use_KDtree=False)\n",
    "a.fit(X,group)"
   ],
   "metadata": {
    "collapsed": false,
    "ExecuteTime": {
     "end_time": "2023-06-01T20:25:25.984232500Z",
     "start_time": "2023-06-01T20:25:25.818670300Z"
    }
   }
  },
  {
   "cell_type": "markdown",
   "source": [
    "Zad 3"
   ],
   "metadata": {
    "collapsed": false
   }
  },
  {
   "cell_type": "code",
   "execution_count": 251,
   "outputs": [
    {
     "data": {
      "text/plain": "<Figure size 640x480 with 1 Axes>",
      "image/png": "[encoded data removed]"
     },
     "metadata": {},
     "output_type": "display_data"
    }
   ],
   "source": [
    "x = numpy.linspace(X[:,0].min(), X[:,0].max(), 100)\n",
    "y = numpy.linspace(X[:,1].min(), X[:,1].max(), 100)\n",
    "\n",
    "meshX,meshY=numpy.meshgrid(x,y)\n",
    "meshPrediction=numpy.zeros(meshX.shape)\n",
    "for yCor in range(meshY.shape[0]):\n",
    "    for xCor in range(meshX.shape[1]):\n",
    "        temp=numpy.array([meshX[xCor][yCor],meshY[xCor][yCor]])\n",
    "        meshPrediction[xCor][yCor]=a.predict(temp)\n",
    "fig,ax=plt.subplots(1,1)\n",
    "ax.contour(meshX, meshY, meshPrediction)\n",
    "\n",
    "plt.scatter(X[:,0],X[:,1],c=group)\n",
    "plt.show()"
   ],
   "metadata": {
    "collapsed": false,
    "ExecuteTime": {
     "end_time": "2023-06-01T20:25:28.202462200Z",
     "start_time": "2023-06-01T20:25:25.840585100Z"
    }
   }
  },
  {
   "cell_type": "markdown",
   "source": [
    "Zad 4"
   ],
   "metadata": {
    "collapsed": false
   }
  },
  {
   "cell_type": "code",
   "execution_count": 252,
   "outputs": [],
   "source": [
    "iris = sd.load_iris()\n",
    "X_iris, y_iris = iris.data, iris.target\n",
    "knn_iris=k_nn(n_neighbors=3)\n",
    "knn_iris.fit(X_iris, y_iris)\n",
    "pca = sde.PCA(n_components=2)\n",
    "X_pca = pca.fit_transform(X_iris)\n",
    "x_min, x_max = X_pca[:, 0].min() , X_pca[:, 0].max()\n",
    "y_min, y_max = X_pca[:, 1].min() , X_pca[:, 1].max()"
   ],
   "metadata": {
    "collapsed": false,
    "ExecuteTime": {
     "end_time": "2023-06-01T20:25:28.294245900Z",
     "start_time": "2023-06-01T20:25:28.208462100Z"
    }
   }
  },
  {
   "cell_type": "markdown",
   "source": [
    "Zad 5"
   ],
   "metadata": {
    "collapsed": false
   }
  },
  {
   "cell_type": "markdown",
   "source": [
    "a"
   ],
   "metadata": {
    "collapsed": false
   }
  },
  {
   "cell_type": "code",
   "execution_count": 253,
   "outputs": [],
   "source": [
    "xx, yy = numpy.meshgrid(numpy.arange(x_min, x_max, 0.1), numpy.arange(y_min, y_max, 0.1))\n",
    "X_grid = numpy.c_[xx.ravel(), yy.ravel()]"
   ],
   "metadata": {
    "collapsed": false,
    "ExecuteTime": {
     "end_time": "2023-06-01T20:25:28.295245600Z",
     "start_time": "2023-06-01T20:25:28.222976Z"
    }
   }
  },
  {
   "cell_type": "markdown",
   "source": [
    "b"
   ],
   "metadata": {
    "collapsed": false
   }
  },
  {
   "cell_type": "code",
   "execution_count": 254,
   "outputs": [],
   "source": [
    "X_grid = numpy.c_[xx.ravel(), yy.ravel()]\n",
    "X_original = pca.inverse_transform(X_grid)"
   ],
   "metadata": {
    "collapsed": false,
    "ExecuteTime": {
     "end_time": "2023-06-01T20:25:28.295245600Z",
     "start_time": "2023-06-01T20:25:28.241975500Z"
    }
   }
  },
  {
   "cell_type": "markdown",
   "source": [
    "c"
   ],
   "metadata": {
    "collapsed": false
   }
  },
  {
   "cell_type": "code",
   "execution_count": 255,
   "outputs": [
    {
     "data": {
      "text/plain": "<Figure size 640x480 with 1 Axes>",
      "image/png": "[encoded data removed]"
     },
     "metadata": {},
     "output_type": "display_data"
    }
   ],
   "source": [
    "T=[]\n",
    "for point in X_original:\n",
    "    T.append(knn_iris.predict(point))\n",
    "Z=numpy.asarray(T)\n",
    "Z = Z.reshape(xx.shape)\n",
    "plt.contour(xx, yy, Z)\n",
    "plt.scatter(X_pca[:, 0], X_pca[:, 1], c=y_iris)\n",
    "plt.show()"
   ],
   "metadata": {
    "collapsed": false,
    "ExecuteTime": {
     "end_time": "2023-06-01T20:25:30.049254200Z",
     "start_time": "2023-06-01T20:25:28.254976100Z"
    }
   }
  },
  {
   "cell_type": "markdown",
   "source": [
    "Zad 6"
   ],
   "metadata": {
    "collapsed": false
   }
  },
  {
   "cell_type": "code",
   "execution_count": 256,
   "outputs": [
    {
     "name": "stdout",
     "output_type": "stream",
     "text": [
      "[0.96, 0.9530666666666667, 0.9330204444444444, 0.9062201362962964, 0.8660414675753086, 0.8657736097838354, 0.8457718240652257, 0.8389718121604348]\n"
     ]
    }
   ],
   "source": [
    "iris = sd.load_iris()\n",
    "X_iris, y_iris = iris.data, iris.target\n",
    "sum=0\n",
    "results=[]\n",
    "for k in range(2,10):\n",
    "    i=0\n",
    "    for index in range(0,X_iris.shape[0]):\n",
    "        iris = sd.load_iris()\n",
    "        Xi, yi = iris.data, iris.target\n",
    "        testData=Xi[index,:]\n",
    "        numpy.delete(Xi,index)\n",
    "        testTarget=yi[index]\n",
    "        numpy.delete(yi,index)\n",
    "        temp=k_nn(n_neighbors=k)\n",
    "        temp.fit(Xi,yi)\n",
    "        predictedValue=temp.predict(testData)\n",
    "        i+=1\n",
    "        if predictedValue==testTarget:\n",
    "            sum+=1\n",
    "    sum/=i\n",
    "    results.append(sum)\n",
    "print(results)"
   ],
   "metadata": {
    "collapsed": false,
    "ExecuteTime": {
     "end_time": "2023-06-01T20:25:31.944604600Z",
     "start_time": "2023-06-01T20:25:30.059243100Z"
    }
   }
  },
  {
   "cell_type": "markdown",
   "source": [
    "7"
   ],
   "metadata": {
    "collapsed": false
   }
  },
  {
   "cell_type": "code",
   "execution_count": 257,
   "outputs": [
    {
     "name": "stdout",
     "output_type": "stream",
     "text": [
      "[[-7.66054695e-01  1.83324682e-01]\n",
      " [-9.20383253e-01 -7.23168038e-02]\n",
      " [-9.86585088e-01 -2.86920000e-01]\n",
      " [ 1.70910242e+00 -1.10453952e+00]\n",
      " [ 1.98764670e+00  1.77624479e+00]\n",
      " [ 3.86274219e+00  2.63325914e+00]\n",
      " [-1.12836011e+00 -4.22761581e-01]\n",
      " [-1.10074198e+00 -2.56042975e+00]\n",
      " [-1.53716448e+00  1.10502647e+00]\n",
      " [-3.23726922e-01  5.56269743e-01]\n",
      " [-1.28532883e+00 -1.30819171e+00]\n",
      " [ 3.35973253e+00 -1.79506345e+00]\n",
      " [-1.27034986e+00  1.26780440e+00]\n",
      " [-7.10233633e-01 -1.13058206e+00]\n",
      " [-1.12933108e+00  6.87661760e-01]\n",
      " [ 2.48206729e-01 -5.09792713e-01]\n",
      " [-2.47263494e+00 -4.86612462e-01]\n",
      " [-1.11573423e+00  1.43370121e+00]\n",
      " [-1.21414740e+00  1.97698901e+00]\n",
      " [-1.25860859e+00 -1.82896522e-01]\n",
      " [-5.35834091e-01  1.10698637e+00]\n",
      " [ 9.23281451e-01 -1.30813451e+00]\n",
      " [ 2.02751248e+00 -4.03257104e-01]\n",
      " [ 2.18718140e+00  2.03196825e+00]\n",
      " [ 5.12814562e-01  4.32994532e-01]\n",
      " [-2.81180710e+00 -3.45538051e-01]\n",
      " [ 3.13380666e-01  1.12073484e+00]\n",
      " [ 2.72990606e-01 -3.21105367e-01]\n",
      " [-1.18986266e+00  4.24345081e-01]\n",
      " [-1.12132974e-01 -9.07197428e-01]\n",
      " [ 1.23567148e+00  1.55525060e+00]\n",
      " [-7.03291920e-01 -6.05415797e-01]\n",
      " [ 1.33828180e+00 -9.86132567e-01]\n",
      " [-3.19826339e+00 -1.25732069e+00]\n",
      " [ 7.64389529e-01 -6.79598011e-01]\n",
      " [ 9.52529622e-01 -7.93470192e-01]\n",
      " [-4.37933163e-01 -1.24378126e+00]\n",
      " [ 2.40620516e+00 -1.00171129e-01]\n",
      " [ 6.81520677e-01  3.93906076e-01]\n",
      " [ 4.51394467e-01 -2.47553402e-03]\n",
      " [-1.45709006e+00  4.86681188e-01]\n",
      " [ 1.69989125e+00 -1.66130052e+00]\n",
      " [-9.80358459e-01 -1.40246886e+00]\n",
      " [-2.68225264e-01  4.58931008e-02]\n",
      " [-1.85016853e+00 -3.58754622e+00]\n",
      " [-1.07894567e-01  1.34057624e+00]\n",
      " [ 1.27458364e+00 -2.52159550e+00]\n",
      " [-4.47369310e-01 -2.68051210e-01]\n",
      " [-8.11815767e-03  2.11564734e+00]\n",
      " [-2.22244349e+00 -1.62073375e+00]\n",
      " [-8.94365876e-01  9.29950318e-01]\n",
      " [-2.41527100e-01  4.55946498e-01]\n",
      " [ 8.50411665e-01 -2.08311803e-01]\n",
      " [-1.06938289e+00  4.17180364e-01]\n",
      " [-9.95105317e-01  1.23195055e+00]\n",
      " [-8.31839865e-01  7.21669496e-01]\n",
      " [-1.24743076e+00  7.09216593e-01]\n",
      " [ 1.22964368e+00 -9.61541555e-01]\n",
      " [-9.00142145e-01  1.78037474e+00]\n",
      " [ 5.71068197e-01 -1.23267396e+00]\n",
      " [ 2.16543447e-01 -7.15602562e-02]\n",
      " [-1.59027524e-01 -2.38076394e+00]\n",
      " [-5.97321845e-01 -1.20114435e+00]\n",
      " [ 1.04421447e+00  2.02899023e+00]\n",
      " [ 9.55083877e-01 -1.62184212e+00]\n",
      " [-9.03343950e-01  1.79445113e+00]\n",
      " [-1.27395967e+00 -4.37843295e-02]\n",
      " [ 2.50202269e-01 -1.04862023e-01]\n",
      " [-8.95526209e-01  3.51173413e-01]\n",
      " [-1.17921312e+00  5.44818813e-01]\n",
      " [-1.20374176e+00 -2.89788250e-01]\n",
      " [ 1.22006997e+00 -8.27182474e-01]\n",
      " [ 2.34137626e+00  1.47049892e+00]\n",
      " [-6.15293010e-01 -8.64008129e-01]\n",
      " [ 1.79574591e+00  1.87834887e+00]\n",
      " [-7.80910684e-01  1.85082392e+00]\n",
      " [-1.36508549e-01  7.33899962e-01]\n",
      " [ 1.73590335e+00 -8.69536952e-01]\n",
      " [-6.35812195e-01  1.35329628e+00]\n",
      " [-6.83049356e-01 -8.00221059e-01]\n",
      " [ 8.51440362e-01  2.42548085e+00]\n",
      " [-1.11745336e+00  1.26661394e+00]\n",
      " [ 6.73114962e-01  5.59313196e-01]\n",
      " [-1.14855777e+00  8.65825460e-01]\n",
      " [-1.45125944e+00 -7.62884416e-01]\n",
      " [ 8.56699698e-01 -4.43584187e-01]\n",
      " [ 1.91002859e+00 -2.20119016e+00]\n",
      " [-1.04999632e+00  1.83240861e+00]\n",
      " [-7.81871442e-02 -3.54528872e-01]\n",
      " [ 5.23902618e-01 -1.97242756e+00]\n",
      " [-1.36672011e+00 -1.05286598e+00]\n",
      " [ 2.17261785e-01 -4.71824167e-01]\n",
      " [ 1.35081491e+00 -1.94643859e-01]\n",
      " [-1.41363563e+00 -3.59967304e-01]\n",
      " [ 1.86752028e+00 -2.05721672e-01]\n",
      " [-9.89449288e-01  3.73436160e-01]\n",
      " [-8.69385004e-01 -8.60699619e-01]\n",
      " [ 2.53026908e+00  3.80251566e-01]\n",
      " [-4.61220130e-01 -3.69743600e+00]\n",
      " [-2.05321581e+00  4.22341441e-01]]\n",
      "[0 0 0 1 1 1 0 0 1 1 0 1 0 0 0 1 0 0 0 0 1 1 1 1 1 0 1 1 0 1 1 0 1 0 1 0 0\n",
      " 1 1 1 0 1 0 1 0 1 1 0 1 0 0 1 1 0 0 0 0 1 0 0 1 0 0 1 1 0 0 1 0 1 0 1 1 0\n",
      " 1 0 1 1 0 1 1 0 1 0 0 1 1 0 1 1 0 1 1 0 1 0 0 1 0 0]\n"
     ]
    }
   ],
   "source": [
    "X,group = sd.make_classification(\n",
    "    n_samples=100,\n",
    "    n_features=2,\n",
    "    n_informative=2,\n",
    "    n_redundant=0,\n",
    "    n_repeated=0,\n",
    "    random_state=0\n",
    ")\n",
    "print(X)\n",
    "print(group)\n"
   ],
   "metadata": {
    "collapsed": false,
    "ExecuteTime": {
     "end_time": "2023-06-01T20:25:32.018497Z",
     "start_time": "2023-06-01T20:25:31.950653Z"
    }
   }
  },
  {
   "cell_type": "code",
   "execution_count": 258,
   "outputs": [],
   "source": [
    "a=k_nn(n_neighbors=2,use_KDtree=False)\n",
    "a.fit(X,group)"
   ],
   "metadata": {
    "collapsed": false,
    "ExecuteTime": {
     "end_time": "2023-06-01T20:25:32.045498100Z",
     "start_time": "2023-06-01T20:25:31.965606800Z"
    }
   }
  },
  {
   "cell_type": "code",
   "execution_count": 259,
   "outputs": [],
   "source": [
    "a=k_nn(n_neighbors=5,use_KDtree=False)\n",
    "a.fit(X,group)"
   ],
   "metadata": {
    "collapsed": false,
    "ExecuteTime": {
     "end_time": "2023-06-01T20:25:32.046920400Z",
     "start_time": "2023-06-01T20:25:31.980891800Z"
    }
   }
  },
  {
   "cell_type": "code",
   "execution_count": 260,
   "outputs": [],
   "source": [
    "a=k_nn(n_neighbors=2,use_KDtree=True)\n",
    "a.fit(X,group)"
   ],
   "metadata": {
    "collapsed": false,
    "ExecuteTime": {
     "end_time": "2023-06-01T20:25:32.046920400Z",
     "start_time": "2023-06-01T20:25:31.995358600Z"
    }
   }
  },
  {
   "cell_type": "code",
   "execution_count": 261,
   "outputs": [],
   "source": [
    "a=k_nn(n_neighbors=5,use_KDtree=True)\n",
    "a.fit(X,group)"
   ],
   "metadata": {
    "collapsed": false,
    "ExecuteTime": {
     "end_time": "2023-06-01T20:25:32.048935400Z",
     "start_time": "2023-06-01T20:25:32.018497Z"
    }
   }
  },
  {
   "cell_type": "markdown",
   "source": [
    "regresja"
   ],
   "metadata": {
    "collapsed": false
   }
  },
  {
   "cell_type": "markdown",
   "source": [
    "1"
   ],
   "metadata": {
    "collapsed": false
   }
  },
  {
   "cell_type": "code",
   "execution_count": 262,
   "outputs": [
    {
     "name": "stdout",
     "output_type": "stream",
     "text": [
      "[[-0.35955316]\n",
      " [ 0.97663904]\n",
      " [ 0.40234164]\n",
      " [-0.81314628]\n",
      " [-0.88778575]\n",
      " [ 0.44386323]\n",
      " [-0.97727788]\n",
      " [ 0.42833187]\n",
      " [ 0.20827498]\n",
      " [-0.31155253]\n",
      " [-0.51080514]\n",
      " [ 0.12691209]\n",
      " [-1.53624369]\n",
      " [-0.40178094]\n",
      " [ 0.6536186 ]\n",
      " [ 1.17877957]\n",
      " [-0.17992484]\n",
      " [ 1.78587049]\n",
      " [ 1.45427351]\n",
      " [-0.68481009]\n",
      " [ 0.97873798]\n",
      " [ 1.89588918]\n",
      " [-0.4380743 ]\n",
      " [ 0.3130677 ]\n",
      " [ 0.76103773]\n",
      " [ 0.77749036]\n",
      " [ 1.9507754 ]\n",
      " [ 0.33367433]\n",
      " [-0.34791215]\n",
      " [ 1.53277921]\n",
      " [-0.89546656]\n",
      " [-0.57884966]\n",
      " [-1.04855297]\n",
      " [ 0.37816252]\n",
      " [ 0.01050002]\n",
      " [ 0.46278226]\n",
      " [ 0.14404357]\n",
      " [-0.40317695]\n",
      " [ 0.0519454 ]\n",
      " [-1.25279536]\n",
      " [ 1.05445173]\n",
      " [ 0.40015721]\n",
      " [-1.70627019]\n",
      " [ 2.2408932 ]\n",
      " [ 0.17742614]\n",
      " [-0.20515826]\n",
      " [ 1.23029068]\n",
      " [-0.85409574]\n",
      " [ 1.76405235]\n",
      " [ 0.4105985 ]\n",
      " [-0.90729836]\n",
      " [-1.42001794]\n",
      " [ 0.46566244]\n",
      " [ 0.90082649]\n",
      " [ 1.13940068]\n",
      " [ 0.40198936]\n",
      " [ 0.3869025 ]\n",
      " [-1.7262826 ]\n",
      " [ 1.46935877]\n",
      " [-0.18718385]\n",
      " [-0.87079715]\n",
      " [ 0.3024719 ]\n",
      " [ 1.20237985]\n",
      " [-1.98079647]\n",
      " [-2.55298982]\n",
      " [-1.45436567]\n",
      " [-0.02818223]\n",
      " [ 0.15494743]\n",
      " [ 1.22244507]\n",
      " [ 1.86755799]\n",
      " [ 2.26975462]\n",
      " [-0.74216502]\n",
      " [ 0.06651722]\n",
      " [ 1.49407907]\n",
      " [-0.67246045]\n",
      " [-1.63019835]\n",
      " [ 0.12898291]\n",
      " [ 0.95008842]\n",
      " [ 1.48825219]\n",
      " [ 0.05616534]\n",
      " [ 0.8644362 ]\n",
      " [ 0.70657317]\n",
      " [-0.15135721]\n",
      " [-1.07075262]\n",
      " [-0.10321885]\n",
      " [-0.30230275]\n",
      " [-0.38732682]\n",
      " [ 0.72909056]\n",
      " [ 0.12167502]\n",
      " [-0.50965218]\n",
      " [-1.23482582]\n",
      " [-0.21274028]\n",
      " [-0.63432209]\n",
      " [ 0.15634897]\n",
      " [ 0.04575852]\n",
      " [-1.16514984]\n",
      " [-0.36274117]\n",
      " [ 0.3563664 ]\n",
      " [-1.61389785]\n",
      " [-1.18063218]]\n",
      "[ -24.67192895    1.2842068     6.06033557    1.78147734  -33.77202985\n",
      "   37.17742373  -71.22464457   17.0657657    34.07428382  -31.50041797\n",
      "  -33.28419358   13.22539423  -87.86604817  -39.63961681   33.67939492\n",
      "   70.92281173   -2.62705419   72.02496491   98.91162315  -18.60350664\n",
      "   62.10062253   74.58575549   19.09907672   15.06414713   58.08452661\n",
      "   78.64098834   90.96259952   10.96694539   20.05863712   72.17616618\n",
      "  -55.50206871  -19.30146574  -57.66553143   44.92532351  -43.92216645\n",
      "   41.93402862   36.58989574   -9.02514481  -33.1469412   -38.81588741\n",
      "   24.04860806   18.02776344  -68.36827069   69.44160984   20.54448353\n",
      "  -48.51131299   79.02558001  -33.90420151   69.94877747  -17.45773982\n",
      "  -11.6672389   -83.79199748  -18.27434762    8.46390826   40.61035963\n",
      "   21.87121825  -16.02269223 -119.0521092    70.44247566   -2.18612895\n",
      "  -34.74218582    0.19691974   34.59905769  -92.37435473 -119.92606588\n",
      "  -60.64605508  -32.31499153  -32.24678866   38.13276643   95.91178356\n",
      "   95.28973365  -22.75337973  -33.40620977   44.04602863  -24.59258887\n",
      "  -84.64371307   27.25318669   18.86567717   27.83954289   19.54535209\n",
      "   41.08476274   24.02645239  -10.59792403  -44.44630121    7.71646239\n",
      "  -38.63442381  -14.76284398   39.39112074   31.17118243    2.34457459\n",
      "  -39.69468752    3.20497002  -45.44924587   -0.65480553  -16.77111125\n",
      "  -47.49877843   14.43947089    8.46416173  -37.12382346  -60.79837024]\n"
     ]
    }
   ],
   "source": [
    "X, y = sd.make_regression(n_samples=100, n_features=1, noise=20, random_state=0)\n",
    "print(X)\n",
    "print(y)"
   ],
   "metadata": {
    "collapsed": false,
    "ExecuteTime": {
     "end_time": "2023-06-01T20:25:32.142024400Z",
     "start_time": "2023-06-01T20:25:32.037506100Z"
    }
   }
  },
  {
   "cell_type": "markdown",
   "source": [
    "2"
   ],
   "metadata": {
    "collapsed": false
   }
  },
  {
   "cell_type": "code",
   "execution_count": 267,
   "outputs": [
    {
     "name": "stdout",
     "output_type": "stream",
     "text": [
      "[-2.5529898158340787, -2.5042752255328495, -2.4555606352316204, -2.4068460449303912, -2.358131454629162, -2.309416864327933, -2.2607022740267038, -2.2119876837254746, -2.1632730934242455, -2.1145585031230163, -2.065843912821787, -2.017129322520558, -1.9684147322193288, -1.9197001419180997, -1.8709855516168705, -1.8222709613156414, -1.7735563710144122, -1.724841780713183, -1.676127190411954, -1.6274126001107247, -1.5786980098094956, -1.5299834195082662, -1.481268829207037, -1.432554238905808, -1.3838396486045788, -1.3351250583033496, -1.2864104680021204, -1.2376958777008913, -1.1889812873996621, -1.140266697098433, -1.0915521067972038, -1.0428375164959747, -0.9941229261947455, -0.9454083358935164, -0.8966937455922872, -0.847979155291058, -0.7992645649898289, -0.7505499746885997, -0.7018353843873706, -0.6531207940861414, -0.6044062037849123, -0.5556916134836831, -0.5069770231824537, -0.4582624328812246, -0.40954784257999544, -0.3608332522787663, -0.3121186619775371, -0.26340407167630797, -0.21468948137507882, -0.16597489107384966, -0.11726030077262051, -0.06854571047139135, -0.019831120170162198, 0.028883470131066957, 0.07759806043229611, 0.12631265073352527, 0.17502724103475442, 0.22374183133598358, 0.27245642163721273, 0.3211710119384419, 0.36988560223967104, 0.4186001925409002, 0.46731478284212935, 0.5160293731433585, 0.5647439634445877, 0.6134585537458168, 0.662173144047046, 0.7108877343482751, 0.7596023246495043, 0.8083169149507334, 0.8570315052519626, 0.9057460955531917, 0.9544606858544209, 1.00317527615565, 1.0518898664568792, 1.1006044567581084, 1.1493190470593375, 1.1980336373605667, 1.2467482276617958, 1.295462817963025, 1.3441774082642541, 1.3928919985654833, 1.4416065888667124, 1.4903211791679416, 1.5390357694691712, 1.5877503597704, 1.6364649500716295, 1.6851795403728582, 1.7338941306740878, 1.7826087209753165, 1.8313233112765461, 1.8800379015777748, 1.9287524918790044, 1.9774670821802331, 2.0261816724814627, 2.0748962627826915, 2.123610853083921, 2.1723254433851498, 2.2210400336863794, 2.2697546239876076]\n",
      "[-96.8729027136644, -96.8729027136644, -96.8729027136644, -96.8729027136644, -96.8729027136644, -96.8729027136644, -96.8729027136644, -96.8729027136644, -96.8729027136644, -96.8729027136644, -80.31245422878564, -80.31245422878564, -80.31245422878564, -80.31245422878564, -80.31245422878564, -80.31245422878564, -80.31245422878564, -79.41079291564716, -79.41079291564716, -79.41079291564716, -67.7295820913386, -70.81432745074167, -70.81432745074167, -61.64876231926784, -62.162935131585996, -56.74939954558124, -54.119944216914384, -46.25080496168639, -46.25080496168639, -50.02073376560672, -56.32672517536785, -46.50049890802008, -48.101156963776326, -41.38163357096671, -33.91754495983285, -31.227801711267478, -24.6780639135659, -19.61443988176643, -21.92344875349745, -26.140037370188764, -28.246200141293162, -24.056583894667693, -8.033430564690162, -12.10106077944258, -5.977811600470536, -8.915256346236658, -12.061732541823037, -23.525462737862917, -12.14349002696325, -12.143490026963246, -11.24119155187986, -16.349134761904274, -21.321971668657802, -21.540215315866128, -6.521545538972684, 15.198574088693949, 11.66141378144611, 4.382818580493568, 13.753291560203234, 15.923499498700204, 15.453154939646533, 9.113468627242323, 12.08902612263804, 12.08902612263804, 22.316453070415616, 27.381429406562955, 46.76449659983706, 46.76449659983706, 48.24557016402703, 45.13306133818118, 41.02797262440782, 26.35983550192923, 26.35983550192923, 22.95260456560295, 29.381894838278875, 41.66272070701429, 52.65811509827506, 52.65811509827506, 52.65811509827506, 52.65811509827506, 64.2223005884035, 62.68316730083326, 62.68316730083326, 62.68316730083326, 62.68316730083326, 62.68316730083326, 57.207096014571256, 70.82154414995027, 76.92948952192386, 80.686776190862, 80.686776190862, 80.68677619086202, 80.68677619086202, 80.68677619086202, 80.58534266463707, 85.23829641329405, 85.23829641329405, 85.23829641329405, 85.23829641329405, 85.23829641329405]\n"
     ]
    }
   ],
   "source": [
    "knn = k_nn(5)\n",
    "knn.fit(X, y)\n",
    "temp=[]\n",
    "temp2=[]\n",
    "temp3 = numpy.linspace(X[:,0].min(), X[:,0].max(), 100)\n",
    "for point in temp3:\n",
    "    xP=knn.regression(point)\n",
    "    temp.append(xP)\n",
    "    temp2.append(point)\n",
    "print(temp2)\n",
    "print(temp)"
   ],
   "metadata": {
    "collapsed": false,
    "ExecuteTime": {
     "end_time": "2023-06-01T20:26:04.413154Z",
     "start_time": "2023-06-01T20:26:04.351066300Z"
    }
   }
  },
  {
   "cell_type": "markdown",
   "source": [
    "3"
   ],
   "metadata": {
    "collapsed": false
   }
  },
  {
   "cell_type": "code",
   "execution_count": 269,
   "outputs": [
    {
     "name": "stdout",
     "output_type": "stream",
     "text": [
      "316.2398613930342\n"
     ]
    },
    {
     "data": {
      "text/plain": "<Figure size 640x480 with 1 Axes>",
      "image/png": "[encoded data removed]"
     },
     "metadata": {},
     "output_type": "display_data"
    }
   ],
   "source": [
    "error=[]\n",
    "for i in range(X.shape[0]):\n",
    "    if(X[i] in temp2):\n",
    "        index=temp2.index(X[i])\n",
    "        error.append((y[i]-temp[index])**2)\n",
    "print(numpy.average(error))\n",
    "plt.scatter(X,y)\n",
    "plt.plot(temp2,temp)\n",
    "plt.show()"
   ],
   "metadata": {
    "collapsed": false,
    "ExecuteTime": {
     "end_time": "2023-06-01T21:00:12.671818900Z",
     "start_time": "2023-06-01T21:00:12.160842900Z"
    }
   }
  },
  {
   "cell_type": "markdown",
   "source": [
    "4"
   ],
   "metadata": {
    "collapsed": false
   }
  },
  {
   "cell_type": "code",
   "execution_count": 265,
   "outputs": [],
   "source": [
    "data_url = \"http://lib.stat.cmu.edu/datasets/boston\"\n",
    "raw_df = pandas.read_csv(data_url, sep=\"\\s+\", skiprows=22, header=None)\n",
    "data = numpy.hstack([raw_df.values[::2, :], raw_df.values[1::2, :2]])\n",
    "target = raw_df.values[1::2, 2]"
   ],
   "metadata": {
    "collapsed": false,
    "ExecuteTime": {
     "end_time": "2023-06-01T20:25:32.908234800Z",
     "start_time": "2023-06-01T20:25:32.290331900Z"
    }
   }
  },
  {
   "cell_type": "markdown",
   "source": [
    "5"
   ],
   "metadata": {
    "collapsed": false
   }
  },
  {
   "cell_type": "code",
   "execution_count": 279,
   "outputs": [
    {
     "name": "stdout",
     "output_type": "stream",
     "text": [
      "   Ilosc sasiadow         blad\n",
      "0               2  2945.026865\n",
      "1               3  2945.026865\n",
      "2               4  2945.026865\n",
      "3               5  2945.026865\n",
      "4               6  2945.026865\n",
      "5               7  2945.026865\n",
      "6               8  2945.026865\n",
      "7               9  2945.026865\n"
     ]
    }
   ],
   "source": [
    "results = []\n",
    "for k in range(2,10):\n",
    "    scores = []\n",
    "    for i in range(10):\n",
    "        model = k_nn(n_neighbors=k, use_KDtree=True)\n",
    "        test_indices = range(i, len(X), 10)\n",
    "        train_indices = [j for j in range(len(X)) if j not in test_indices]\n",
    "        X_train, y_train = X[train_indices], y[train_indices]\n",
    "        X_test, y_test = X[test_indices], y[test_indices]\n",
    "        model.fit(X_train, y_train)\n",
    "        temp=[]\n",
    "        for index in range(X_test.shape[0]):\n",
    "            xP=knn.regression(X_test[index])\n",
    "            temp.append((xP-y_train[index])**2)\n",
    "        scores.append(numpy.average(temp))\n",
    "    mean_score = numpy.mean(scores)\n",
    "    results.append( mean_score)\n",
    "data = {'Ilosc sasiadow': [2,3,4,5,6,7,8,9],\n",
    "        'blad': results}\n",
    "df=pandas.DataFrame(data)\n",
    "print(df)"
   ],
   "metadata": {
    "collapsed": false,
    "ExecuteTime": {
     "end_time": "2023-06-01T21:09:07.434104700Z",
     "start_time": "2023-06-01T21:09:07.261934600Z"
    }
   }
  },
  {
   "cell_type": "code",
   "execution_count": 266,
   "outputs": [],
   "source": [],
   "metadata": {
    "collapsed": false,
    "ExecuteTime": {
     "end_time": "2023-06-01T20:25:33.313699Z",
     "start_time": "2023-06-01T20:25:33.304790300Z"
    }
   }
  }
 ],
 "metadata": {
  "kernelspec": {
   "display_name": "Python 3",
   "language": "python",
   "name": "python3"
  },
  "language_info": {
   "codemirror_mode": {
    "name": "ipython",
    "version": 2
   },
   "file_extension": ".py",
   "mimetype": "text/x-python",
   "name": "python",
   "nbconvert_exporter": "python",
   "pygments_lexer": "ipython2",
   "version": "2.7.6"
  }
 },
 "nbformat": 4,
 "nbformat_minor": 0
}
