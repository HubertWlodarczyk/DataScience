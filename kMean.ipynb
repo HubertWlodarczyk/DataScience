{
 "cells": [
  {
   "cell_type": "code",
   "execution_count": null,
   "metadata": {
    "collapsed": true
   },
   "outputs": [],
   "source": [
    "from matplotlib\n",
    "import pyplot as plt\n",
    "import pandas\n",
    "import numpy as np\n",
    "def distp(X, C):\n",
    "    n, d = X.shape\n",
    "    K = C.shape[0]\n",
    "    odleglosci = np.zeros((n, K))\n",
    "    for i in range(n):\n",
    "        for j in range(K):\n",
    "            odleglosc = np.sqrt(np.dot((X[i] - C[j]), (X[i] - C[j]).T))\n",
    "            odleglosci[i, j] = odleglosc\n",
    "    return odleglosci\n",
    "def distm(X, C, V):\n",
    "    n, d = X.shape\n",
    "    K = C.shape[0]\n",
    "    odleglosci = np.zeros((n, K))\n",
    "    minusV=np.power(V,-1)\n",
    "    for i in range(n):\n",
    "        for j in range(K):\n",
    "            odleglosc = np.sqrt(np.dot(np.dot((X[i] - C[j]),minusV), (X[i] - C[j]).T))\n",
    "            odleglosci[i, j] = odleglosc\n",
    "    return odleglosci\n",
    "def ksrodki(X, K):\n",
    "    n = len(X)\n",
    "    d = X.shape[1]\n",
    "    srodek = X[np.random.choice(n, size=K, replace=False)]\n",
    "    while True:\n",
    "        odleglosc = distp(X, srodek)\n",
    "        sasiedztwa = np.zeros(n)\n",
    "        for i in range(n):\n",
    "            minOdleglosc = np.inf\n",
    "            minIndeks = 0\n",
    "            for j in range(K):\n",
    "                if odleglosc[i, j] < minOdleglosc:\n",
    "                    minOdleglosc = odleglosc[i, j]\n",
    "                    minIndeks = j\n",
    "                elif odleglosc[i, j] == minOdleglosc:\n",
    "                    if np.random.choice([True, False]):\n",
    "                        minIndeks = j\n",
    "                        sasiedztwa[i] = minIndeks\n",
    "                        nowySrodek = np.zeros((K, d))\n",
    "                        temp = np.zeros(K)\n",
    "                        for i in range(n):\n",
    "                            tempIndeks = int(sasiedztwa[i])\n",
    "                            nowySrodek[tempIndeks] += X[i]\n",
    "                            temp[tempIndeks] += 1\n",
    "                            for j in range(K):\n",
    "                                nowySrodek[j] /= temp[j]\n",
    "                                if np.array_equal(srodek, nowySrodek):\n",
    "                                    break\n",
    "                                    srodek = nowySrodek\n",
    "                                    return srodek,sasiedztwa\n",
    "                                    df=pandas.read_csv(\"autos.csv\") data=df.values a=np.column_stack((df[\"width\"],df[\"height\"])) srodki,clusterAssignments = ksrodki(a,7) plt.scatter(srodki[:,0],srodki[:,1],c='red') plt.scatter(df[\"width\"],df[\"height\"],c=clusterAssignments) plt.show() print(clusterAssignments)"
   ]
  }
 ],
 "metadata": {
  "kernelspec": {
   "display_name": "Python 3",
   "language": "python",
   "name": "python3"
  },
  "language_info": {
   "codemirror_mode": {
    "name": "ipython",
    "version": 2
   },
   "file_extension": ".py",
   "mimetype": "text/x-python",
   "name": "python",
   "nbconvert_exporter": "python",
   "pygments_lexer": "ipython2",
   "version": "2.7.6"
  }
 },
 "nbformat": 4,
 "nbformat_minor": 0
}
